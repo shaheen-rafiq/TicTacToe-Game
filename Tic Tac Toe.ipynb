{
 "cells": [
  {
   "cell_type": "markdown",
   "metadata": {},
   "source": [
    "# Tic Tac Toe game!"
   ]
  },
  {
   "cell_type": "markdown",
   "metadata": {},
   "source": [
    "### Mind Map on how to execute game:\n",
    " 1. while start game!= no\n",
    " 2. player 1 which symbol\n",
    " 3. which player to start\n",
  " while True\n",
  " 4. where would u like to place\n",
  " 5. is there 3 in a row? YOU WIN break. : pass\n",
  " 6. is board full? BOARD FULl. break : pass\n",
  " 7.if pl=x, pl= o VV\n",
    "        \n",
    "    \n",
    "    "
   ]
  },
  {
   "cell_type": "code",
   "execution_count": 2,
   "metadata": {},
   "outputs": [],
   "source": [
    "pos=[]\n",
    "for i in range(10):\n",
    "    pos.append(i)\n",
    "\n",
    "def print_board():\n",
    "    print(f\" {pos[1]} | {pos[2]}  | {pos[3]} \") \n",
    "    print(\"------------\")\n",
    "    print(f\" {pos[4]} | {pos[5]}  | {pos[6]} \")\n",
    "    print(\"------------\")\n",
    "    print(f\" {pos[7]} | {pos[8]}  | {pos[9]} \")   "
   ]
  },
  {
   "cell_type": "code",
   "execution_count": 3,
   "metadata": {},
   "outputs": [
    {
     "name": "stdout",
     "output_type": "stream",
     "text": [
      " 1 | 2  | 3 \n",
      "------------\n",
      " 4 | 5  | 6 \n",
      "------------\n",
      " 7 | 8  | 9 \n"
     ]
    }
   ],
   "source": [
    "print_board()"
   ]
  },
  {
   "cell_type": "code",
   "execution_count": 4,
   "metadata": {},
   "outputs": [],
   "source": [
    "# 1\n",
    "def choose_symb():\n",
    "    print(\"Player 1, Please choose X or O\\n\")\n",
    "    global p1,p2\n",
    "    p1=' '\n",
    "    \n",
    "    while(p1!='X' and p1!='O'):\n",
    "        p1=input(\"Choose X or O\\n\")\n",
    "        \n",
    "    if p1=='X':\n",
    "        p2='O'\n",
    "    else:\n",
    "        p2='X'\n",
    "    print(f\"Player 1 is {p1} and Player 2 is {p2}\\n\")"
   ]
  },
  {
   "cell_type": "code",
   "execution_count": 5,
   "metadata": {},
   "outputs": [
    {
     "name": "stdout",
     "output_type": "stream",
     "text": [
      "Player 1, Please choose X or O\n",
      "\n",
      "Choose X or O\n",
      "X\n",
      "Player 1 is X and Player 2 is O\n",
      "\n"
     ]
    }
   ],
   "source": [
    "choose_symb()"
   ]
  },
  {
   "cell_type": "code",
   "execution_count": 9,
   "metadata": {},
   "outputs": [],
   "source": [
    "# 2\n",
    "def player_start():\n",
    "    import random\n",
    "    pls=[p1,p2]\n",
    "    global pl\n",
    "    pl=random.choice(pls)\n",
    "\n",
    "    print(f\"Our randomizer has decided that {pl} will start\\n\")\n",
    "    \n",
    "    return pl"
   ]
  },
  {
   "cell_type": "code",
   "execution_count": 10,
   "metadata": {},
   "outputs": [
    {
     "name": "stdout",
     "output_type": "stream",
     "text": [
      "Our randomizer has decided that X will start\n",
      "\n"
     ]
    }
   ],
   "source": [
    "pl=player_start()"
   ]
  },
  {
   "cell_type": "code",
   "execution_count": 11,
   "metadata": {},
   "outputs": [
    {
     "name": "stdout",
     "output_type": "stream",
     "text": [
      "X\n"
     ]
    }
   ],
   "source": [
    "print(pl)"
   ]
  },
  {
   "cell_type": "code",
   "execution_count": 12,
   "metadata": {},
   "outputs": [],
   "source": [
    "def place_marker(pl): \n",
    "    mark= 0\n",
    "    \n",
    "    while( mark not in range(1,10)):\n",
    "        mark= int(input(f\"{pl}, Where would u like to place your marker\\n\"))\n",
    "    pos[mark]=pl\n",
    "    print_board()\n",
    "    \n",
    "    if (pos_full()):\n",
    "        print(f\"{pl} has won\\n\")\n",
    "        return 0\n",
    "            \n",
    "    if pl=='X':\n",
    "        pl='O'\n",
    "        return pl\n",
    "    else:\n",
    "        pl='X'\n",
    "        return pl\n",
    "    print(f\"{pl} turn is next\\n\")\n"
   ]
  },
  {
   "cell_type": "code",
   "execution_count": 20,
   "metadata": {},
   "outputs": [
    {
     "name": "stdout",
     "output_type": "stream",
     "text": [
      "0, Where would u like to place your marker\n",
      "1\n",
      " 0 | O  | X \n",
      "------------\n",
      " 4 | O  | O \n",
      "------------\n",
      " X | O  | X \n"
     ]
    }
   ],
   "source": [
    "pl=place_marker(pl)"
   ]
  },
  {
   "cell_type": "code",
   "execution_count": 17,
   "metadata": {},
   "outputs": [],
   "source": [
    "def pos_full():\n",
    "    return ((pos[7] == pl and pos[8] == pl and pos[9] == pl) or \n",
    "    (pos[4] == pl and pos[5] == pl and pos[6] == pl) or \n",
    "    (pos[1] == pl and pos[2] == pl and pos[3] == pl) or \n",
    "    (pos[7] == pl and pos[4] == pl and pos[1] == pl) or \n",
    "    (pos[8] == pl and pos[5] == pl and pos[2] == pl) or\n",
    "    (pos[9] == pl and pos[6] == pl and pos[3] == pl) or \n",
    "    (pos[7] == pl and pos[5] == pl and pos[3] == pl) or \n",
    "    (pos[9] == pl and pos[5] == pl and pos[1] == pl)) "
   ]
  },
  {
   "cell_type": "code",
   "execution_count": 18,
   "metadata": {},
   "outputs": [],
   "source": [
    "def board_full():\n",
    "    for i in range (1,10):\n",
    "        if pos[i]==i:\n",
    "            return False\n",
    "    return True\n",
    "            "
   ]
  },
  {
   "cell_type": "code",
   "execution_count": 19,
   "metadata": {},
   "outputs": [
    {
     "name": "stdout",
     "output_type": "stream",
     "text": [
      "Welcome to tic tac toe \n",
      " These are the board positions.\n",
      " 1 | 2  | 3 \n",
      "------------\n",
      " 4 | 5  | 6 \n",
      "------------\n",
      " 7 | 8  | 9 \n",
      "Player 1, Please choose X or O\n",
      "\n",
      "Choose X or O\n",
      "X\n",
      "Player 1 is X and Player 2 is O\n",
      "\n",
      "Our randomizer has decided that O will start\n",
      "\n",
      "O, Where would u like to place your marker\n",
      "1\n",
      " O | 2  | 3 \n",
      "------------\n",
      " 4 | 5  | 6 \n",
      "------------\n",
      " 7 | 8  | 9 \n",
      "X, Where would u like to place your marker\n",
      "5\n",
      " O | 2  | 3 \n",
      "------------\n",
      " 4 | X  | 6 \n",
      "------------\n",
      " 7 | 8  | 9 \n",
      "O, Where would u like to place your marker\n",
      "2\n",
      " O | O  | 3 \n",
      "------------\n",
      " 4 | X  | 6 \n",
      "------------\n",
      " 7 | 8  | 9 \n",
      "X, Where would u like to place your marker\n",
      "3\n",
      " O | O  | X \n",
      "------------\n",
      " 4 | X  | 6 \n",
      "------------\n",
      " 7 | 8  | 9 \n",
      "O, Where would u like to place your marker\n",
      "6\n",
      " O | O  | X \n",
      "------------\n",
      " 4 | X  | O \n",
      "------------\n",
      " 7 | 8  | 9 \n",
      "X, Where would u like to place your marker\n",
      "4\n",
      " O | O  | X \n",
      "------------\n",
      " X | X  | O \n",
      "------------\n",
      " 7 | 8  | 9 \n",
      "O, Where would u like to place your marker\n",
      "7\n",
      " O | O  | X \n",
      "------------\n",
      " X | X  | O \n",
      "------------\n",
      " O | 8  | 9 \n",
      "X, Where would u like to place your marker\n",
      "8\n",
      " O | O  | X \n",
      "------------\n",
      " X | X  | O \n",
      "------------\n",
      " O | X  | 9 \n",
      "O, Where would u like to place your marker\n",
      "9\n",
      " O | O  | X \n",
      "------------\n",
      " X | X  | O \n",
      "------------\n",
      " O | X  | O \n",
      "board is full\n",
      "would you like to play again? enter y for yesy\n",
      "Welcome to tic tac toe \n",
      " These are the board positions.\n",
      " 1 | 2  | 3 \n",
      "------------\n",
      " 4 | 5  | 6 \n",
      "------------\n",
      " 7 | 8  | 9 \n",
      "Player 1, Please choose X or O\n",
      "\n",
      "Choose X or O\n",
      "O\n",
      "Player 1 is O and Player 2 is X\n",
      "\n",
      "Our randomizer has decided that O will start\n",
      "\n",
      "O, Where would u like to place your marker\n",
      "2\n",
      " 1 | O  | 3 \n",
      "------------\n",
      " 4 | 5  | 6 \n",
      "------------\n",
      " 7 | 8  | 9 \n",
      "X, Where would u like to place your marker\n",
      "3\n",
      " 1 | O  | X \n",
      "------------\n",
      " 4 | 5  | 6 \n",
      "------------\n",
      " 7 | 8  | 9 \n",
      "O, Where would u like to place your marker\n",
      "6\n",
      " 1 | O  | X \n",
      "------------\n",
      " 4 | 5  | O \n",
      "------------\n",
      " 7 | 8  | 9 \n",
      "X, Where would u like to place your marker\n",
      "7\n",
      " 1 | O  | X \n",
      "------------\n",
      " 4 | 5  | O \n",
      "------------\n",
      " X | 8  | 9 \n",
      "O, Where would u like to place your marker\n",
      "8\n",
      " 1 | O  | X \n",
      "------------\n",
      " 4 | 5  | O \n",
      "------------\n",
      " X | O  | 9 \n",
      "X, Where would u like to place your marker\n",
      "9\n",
      " 1 | O  | X \n",
      "------------\n",
      " 4 | 5  | O \n",
      "------------\n",
      " X | O  | X \n",
      "O, Where would u like to place your marker\n",
      "5\n",
      " 1 | O  | X \n",
      "------------\n",
      " 4 | O  | O \n",
      "------------\n",
      " X | O  | X \n",
      "O has won\n",
      "\n",
      "would you like to play again? enter y for yesn\n"
     ]
    }
   ],
   "source": [
    "start_game='y'\n",
    "\n",
    "while(start_game=='y'):\n",
    "    \n",
    "    print(\"Welcome to tic tac toe \\n These are the board positions.\")\n",
    "    \n",
    "    pos=[]\n",
    "    for i in range(10):\n",
    "        pos.append(i)\n",
    "\n",
    "    print_board()\n",
    "    \n",
    "    choose_symb()\n",
    "    \n",
    "    pl=player_start()\n",
    "    \n",
    "    while True:\n",
    "        \n",
    "        pl=place_marker(pl)\n",
    "        \n",
    "        if pl==0:\n",
    "            break\n",
    "            \n",
    "        if(board_full()):\n",
    "            print(\"board is full\")\n",
    "            break\n",
    "            \n",
    "    start_game=input(\"would you like to play again? enter y for yes\")"
   ]
  },
  {
   "cell_type": "code",
   "execution_count": null,
   "metadata": {},
   "outputs": [],
   "source": []
  }
 ],
 "metadata": {
  "kernelspec": {
   "display_name": "Python 3",
   "language": "python",
   "name": "python3"
  },
  "language_info": {
   "codemirror_mode": {
    "name": "ipython",
    "version": 3
   },
   "file_extension": ".py",
   "mimetype": "text/x-python",
   "name": "python",
   "nbconvert_exporter": "python",
   "pygments_lexer": "ipython3",
   "version": "3.7.6"
  }
 },
 "nbformat": 4,
 "nbformat_minor": 4
}
